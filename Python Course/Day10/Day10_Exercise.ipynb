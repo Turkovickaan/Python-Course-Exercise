{
  "nbformat": 4,
  "nbformat_minor": 0,
  "metadata": {
    "colab": {
      "provenance": []
    },
    "kernelspec": {
      "name": "python3",
      "display_name": "Python 3"
    },
    "language_info": {
      "name": "python"
    }
  },
  "cells": [
    {
      "cell_type": "code",
      "execution_count": 1,
      "metadata": {
        "colab": {
          "base_uri": "https://localhost:8080/",
          "height": 36
        },
        "id": "jdV-VCA_QnAR",
        "outputId": "b1a0ff9c-951b-488c-fbad-0028e216b362"
      },
      "outputs": [
        {
          "output_type": "execute_result",
          "data": {
            "text/plain": [
              "'KaanTürkoğlu'"
            ],
            "application/vnd.google.colaboratory.intrinsic+json": {
              "type": "string"
            }
          },
          "metadata": {},
          "execution_count": 1
        }
      ],
      "source": [
        "import string\n",
        "\n",
        "def format_name(f_name, l_name):\n",
        "  f_name = string.capwords(f_name, sep = None)\n",
        "  l_name = string.capwords(l_name, sep = None)\n",
        "  full_name = f_name + l_name\n",
        "  return full_name\n",
        "\n",
        "format_name(f_name = \"kaan\", l_name = \"türkoğlu\")"
      ]
    },
    {
      "cell_type": "code",
      "source": [
        "def format_name(f_name, l_name):\n",
        "  formated_f_name = f_name.title()\n",
        "  formated_l_name = l_name.title()\n",
        "\n",
        "  full_name = f_name + ' ' + l_name\n",
        "  return full_name\n",
        "\n",
        "format_name(\"kaan\", \"SoyaDI\")"
      ],
      "metadata": {
        "colab": {
          "base_uri": "https://localhost:8080/",
          "height": 36
        },
        "id": "UxvHqtcDQn-h",
        "outputId": "ae497876-56da-4f23-aa66-00895350de50"
      },
      "execution_count": 5,
      "outputs": [
        {
          "output_type": "execute_result",
          "data": {
            "text/plain": [
              "'Kaan Soyadi'"
            ],
            "application/vnd.google.colaboratory.intrinsic+json": {
              "type": "string"
            }
          },
          "metadata": {},
          "execution_count": 5
        }
      ]
    },
    {
      "cell_type": "code",
      "source": [
        "def format_name(f_name, l_name):\n",
        "  \"\"\"Take a first name and last name and format it to return to title case version of the name.\"\"\"\n",
        "  if f_name == \"\" or l_name == \"\":\n",
        "    return\n",
        "  formated_f_name = f_name.title()\n",
        "  formated_l_name = l_name.title()\n",
        "  return f\"Your Format name = {formated_f_name} {formated_l_name}\"\n",
        "\n",
        "print(format_name(input(\"What is your first name ? :\"), input(\"What is your surname ? :\")))"
      ],
      "metadata": {
        "id": "ANDTkpUWUCPp"
      },
      "execution_count": null,
      "outputs": []
    },
    {
      "cell_type": "code",
      "source": [
        "from pickle import TRUE\n",
        "def is_leap(year):\n",
        "  if year % 4 == 0:\n",
        "    if year % 100 == 0:\n",
        "      if year % 400 == 0:\n",
        "        return True\n",
        "      else:\n",
        "        return False\n",
        "    else:\n",
        "      return True\n",
        "  else:\n",
        "      return False\n",
        "\n",
        "def days_in_month(year, month):\n",
        "  if month > 12 or month <= 0:\n",
        "    return\n",
        "  if year == \"\" or month == \"\":\n",
        "    return\n",
        "  month_days = [31, 28, 31, 30, 31, 30, 31, 31, 30, 31, 30, 31]\n",
        "  if is_leap(year) and month == 2 :\n",
        "    return 29\n",
        "  return month_days[month - 1]\n",
        "\n",
        "\n",
        "year = int(input(\"Enter a year: \"))\n",
        "month = int(input(\"Enter a month: \"))\n",
        "days = days_in_month(year, month)\n",
        "print(days)"
      ],
      "metadata": {
        "colab": {
          "base_uri": "https://localhost:8080/"
        },
        "id": "xU-Jw7gMVCg7",
        "outputId": "787cab7a-9853-4ad3-e2b5-fa31a058d27b"
      },
      "execution_count": 12,
      "outputs": [
        {
          "output_type": "stream",
          "name": "stdout",
          "text": [
            "Enter a year: 2025\n",
            "Enter a month: 2\n",
            "28\n"
          ]
        }
      ]
    },
    {
      "cell_type": "code",
      "source": [
        "def add(first_number, second_number):\n",
        "  return first_number + second_number\n",
        "\n",
        "def mines(first_number, second_number):\n",
        "  return first_number - second_number\n",
        "\n",
        "def part(first_number, second_number):\n",
        "  return first_number * second_number\n",
        "\n",
        "def multiply(first_number, second_number):\n",
        "  return first_number / second_number\n",
        "\n",
        "def calculator(first_number, second_number):\n",
        "  first_number = int(input(\"What's the first number ? :\"))\n",
        "  print(\"+ \\n\"+ \"- \\n\" + \"* \\n\"+ \"/ \\n\" )\n",
        "  operationss = input(\"Pick an operation : \")\n",
        "  second_number = int(input(\"What's the next number ? :\"))\n",
        "\n",
        "\n",
        "  if operation == \"+\":\n",
        "    add(first_number, second_number)\n",
        "\n",
        "  if operation == \"-\":\n",
        "    mines(first_number, second_number)\n",
        "\n",
        "\n",
        "  if operation == \"*\":\n",
        "    part(first_number, second_number)\n",
        "\n",
        "  if operation == \"/\":\n",
        "    multiply(first_number, second_number)\n",
        "\n",
        "  decision = input(print(f\"Type 'y' to continue calculating with {conclusion} or type 'n' to start a new calculation:\"))\n",
        "\n",
        "  if decision == \"y\":\n",
        "    conclusion"
      ],
      "metadata": {
        "id": "jDouMFw5j6W-"
      },
      "execution_count": null,
      "outputs": []
    }
  ]
}